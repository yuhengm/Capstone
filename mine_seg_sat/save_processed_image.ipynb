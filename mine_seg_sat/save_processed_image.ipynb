{
 "cells": [
  {
   "cell_type": "code",
   "execution_count": 1,
   "id": "initial_id",
   "metadata": {
    "collapsed": true,
    "ExecuteTime": {
     "end_time": "2023-11-08T18:42:43.464178Z",
     "start_time": "2023-11-08T18:42:40.539987Z"
    }
   },
   "outputs": [
    {
     "ename": "AttributeError",
     "evalue": "'MineSATDataset' object has no attribute 'get_transformed_images'",
     "output_type": "error",
     "traceback": [
      "\u001B[0;31m---------------------------------------------------------------------------\u001B[0m",
      "\u001B[0;31mAttributeError\u001B[0m                            Traceback (most recent call last)",
      "Cell \u001B[0;32mIn[1], line 30\u001B[0m\n\u001B[1;32m     27\u001B[0m original_dir_name \u001B[38;5;241m=\u001B[39m Path(filepath)\u001B[38;5;241m.\u001B[39mname\n\u001B[1;32m     29\u001B[0m \u001B[38;5;66;03m# Get the processed images\u001B[39;00m\n\u001B[0;32m---> 30\u001B[0m images_dict \u001B[38;5;241m=\u001B[39m \u001B[43mforest_sat_dataset\u001B[49m\u001B[38;5;241;43m.\u001B[39;49m\u001B[43mget_transformed_images\u001B[49m(index)  \u001B[38;5;66;03m# Using the new method\u001B[39;00m\n\u001B[1;32m     32\u001B[0m \u001B[38;5;66;03m# Create a new directory path for the processed images\u001B[39;00m\n\u001B[1;32m     33\u001B[0m processed_dir_path \u001B[38;5;241m=\u001B[39m processed_path \u001B[38;5;241m/\u001B[39m original_dir_name\n",
      "\u001B[0;31mAttributeError\u001B[0m: 'MineSATDataset' object has no attribute 'get_transformed_images'"
     ]
    }
   ],
   "source": [
    "import os\n",
    "import shutil\n",
    "from pathlib import Path\n",
    "from dotenv import load_dotenv\n",
    "import dataset  # Make sure this is the correct module name\n",
    "import tifffile as tiff\n",
    "\n",
    "load_dotenv()\n",
    "\n",
    "data_path = Path(os.getenv(\"prepare_dataset_folder\"))\n",
    "processed_path = Path(os.getenv(\"processed_images_folder\"))\n",
    "split = \"train\"  # Adjust as needed for 'val' or 'test'\n",
    "\n",
    "# Ensure the processed data folder exists\n",
    "processed_path.mkdir(parents=True, exist_ok=True)\n",
    "\n",
    "# Instantiate the dataset\n",
    "forest_sat_dataset = dataset.MineSATDataset(split=split, data_path=data_path)\n",
    "\n",
    "\n",
    "# Iterate over all dataset indices\n",
    "for index in range(len(forest_sat_dataset)):\n",
    "    # Get the filepaths for the current index\n",
    "    filepath = forest_sat_dataset.filepaths[index]\n",
    "    \n",
    "    # Extract the original directory name\n",
    "    original_dir_name = Path(filepath).name\n",
    "    \n",
    "    # Get the processed images\n",
    "    images_dict = forest_sat_dataset.get_transformed_images(index)  # Using the new method\n",
    "    \n",
    "    # Create a new directory path for the processed images\n",
    "    processed_dir_path = processed_path / original_dir_name\n",
    "    processed_dir_path.mkdir(parents=True, exist_ok=True)\n",
    "    \n",
    "    # Save each processed image in the new directory\n",
    "    for img_type, image in images_dict.items():\n",
    "        # Skip saving the mask if you only want the indices and RGB images\n",
    "        if img_type == \"Mask\":\n",
    "            continue\n",
    "\n",
    "        # Define the filename, maintaining the original directory name\n",
    "        filename = f\"{img_type}.tif\"\n",
    "        # Define the full path\n",
    "        filepath = processed_dir_path / filename\n",
    "        # Save the image\n",
    "        tiff.imwrite(filepath, image) "
   ]
  },
  {
   "cell_type": "code",
   "execution_count": null,
   "outputs": [],
   "source": [],
   "metadata": {
    "collapsed": false
   },
   "id": "11e75dd0f0113d23"
  }
 ],
 "metadata": {
  "kernelspec": {
   "display_name": "Python 3",
   "language": "python",
   "name": "python3"
  },
  "language_info": {
   "codemirror_mode": {
    "name": "ipython",
    "version": 2
   },
   "file_extension": ".py",
   "mimetype": "text/x-python",
   "name": "python",
   "nbconvert_exporter": "python",
   "pygments_lexer": "ipython2",
   "version": "2.7.6"
  }
 },
 "nbformat": 4,
 "nbformat_minor": 5
}
