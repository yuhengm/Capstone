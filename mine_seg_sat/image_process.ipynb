{
 "cells": [
  {
   "cell_type": "code",
   "execution_count": 1,
   "metadata": {},
   "outputs": [
    {
     "name": "stderr",
     "output_type": "stream",
     "text": [
      "d:\\python39\\lib\\site-packages\\tqdm\\auto.py:21: TqdmWarning: IProgress not found. Please update jupyter and ipywidgets. See https://ipywidgets.readthedocs.io/en/stable/user_install.html\n",
      "  from .autonotebook import tqdm as notebook_tqdm\n"
     ]
    },
    {
     "ename": "AssertionError",
     "evalue": "dataset_splits.csv not found in data_path.",
     "output_type": "error",
     "traceback": [
      "\u001b[1;31m---------------------------------------------------------------------------\u001b[0m",
      "\u001b[1;31mAssertionError\u001b[0m                            Traceback (most recent call last)",
      "\u001b[1;32me:\\Capstone\\mine_seg_sat\\image_process.ipynb Cell 1\u001b[0m line \u001b[0;36m9\n\u001b[0;32m      <a href='vscode-notebook-cell:/e%3A/Capstone/mine_seg_sat/image_process.ipynb#W2sZmlsZQ%3D%3D?line=5'>6</a>\u001b[0m split \u001b[39m=\u001b[39m \u001b[39m\"\u001b[39m\u001b[39mtrain\u001b[39m\u001b[39m\"\u001b[39m  \u001b[39m# or 'val' or 'test', depending on your dataset_splits.csv\u001b[39;00m\n\u001b[0;32m      <a href='vscode-notebook-cell:/e%3A/Capstone/mine_seg_sat/image_process.ipynb#W2sZmlsZQ%3D%3D?line=7'>8</a>\u001b[0m \u001b[39m# Instantiate the dataset\u001b[39;00m\n\u001b[1;32m----> <a href='vscode-notebook-cell:/e%3A/Capstone/mine_seg_sat/image_process.ipynb#W2sZmlsZQ%3D%3D?line=8'>9</a>\u001b[0m forest_sat_dataset \u001b[39m=\u001b[39m dataset\u001b[39m.\u001b[39;49mMineSATDataset(split\u001b[39m=\u001b[39;49msplit, data_path\u001b[39m=\u001b[39;49mdata_path)\n\u001b[0;32m     <a href='vscode-notebook-cell:/e%3A/Capstone/mine_seg_sat/image_process.ipynb#W2sZmlsZQ%3D%3D?line=10'>11</a>\u001b[0m \u001b[39m# Choose an index of an image you want to visualize\u001b[39;00m\n\u001b[0;32m     <a href='vscode-notebook-cell:/e%3A/Capstone/mine_seg_sat/image_process.ipynb#W2sZmlsZQ%3D%3D?line=11'>12</a>\u001b[0m index \u001b[39m=\u001b[39m \u001b[39m3\u001b[39m  \u001b[39m# You can change this to any valid index\u001b[39;00m\n",
      "File \u001b[1;32me:\\Capstone\\mine_seg_sat\\dataset.py:51\u001b[0m, in \u001b[0;36mMineSATDataset.__init__\u001b[1;34m(self, split, data_path, transformations, preprocessing, flatten_mask, use_mask, rescale, min_max_normalization, max_values)\u001b[0m\n\u001b[0;32m     45\u001b[0m \u001b[39mself\u001b[39m\u001b[39m.\u001b[39msplit \u001b[39m=\u001b[39m split\n\u001b[0;32m     46\u001b[0m \u001b[39massert\u001b[39;00m \u001b[39mself\u001b[39m\u001b[39m.\u001b[39msplit \u001b[39min\u001b[39;00m [\n\u001b[0;32m     47\u001b[0m     \u001b[39m\"\u001b[39m\u001b[39mtrain\u001b[39m\u001b[39m\"\u001b[39m,\n\u001b[0;32m     48\u001b[0m     \u001b[39m\"\u001b[39m\u001b[39mval\u001b[39m\u001b[39m\"\u001b[39m,\n\u001b[0;32m     49\u001b[0m     \u001b[39m\"\u001b[39m\u001b[39mtest\u001b[39m\u001b[39m\"\u001b[39m,\n\u001b[0;32m     50\u001b[0m ], \u001b[39mf\u001b[39m\u001b[39m\"\u001b[39m\u001b[39mSplit must be one of \u001b[39m\u001b[39m'\u001b[39m\u001b[39mtrain\u001b[39m\u001b[39m'\u001b[39m\u001b[39m, \u001b[39m\u001b[39m'\u001b[39m\u001b[39mval\u001b[39m\u001b[39m'\u001b[39m\u001b[39m, \u001b[39m\u001b[39m'\u001b[39m\u001b[39mtest\u001b[39m\u001b[39m'\u001b[39m\u001b[39m, got \u001b[39m\u001b[39m{\u001b[39;00m\u001b[39mself\u001b[39m\u001b[39m.\u001b[39msplit\u001b[39m}\u001b[39;00m\u001b[39m\"\u001b[39m\n\u001b[1;32m---> 51\u001b[0m \u001b[39massert\u001b[39;00m (\n\u001b[0;32m     52\u001b[0m     \u001b[39mself\u001b[39m\u001b[39m.\u001b[39mdata_path \u001b[39m/\u001b[39m \u001b[39m\"\u001b[39m\u001b[39mdataset_splits.csv\u001b[39m\u001b[39m\"\u001b[39m\n\u001b[0;32m     53\u001b[0m )\u001b[39m.\u001b[39mexists(), \u001b[39m\"\u001b[39m\u001b[39mdataset_splits.csv not found in data_path.\u001b[39m\u001b[39m\"\u001b[39m\n\u001b[0;32m     54\u001b[0m \u001b[39mself\u001b[39m\u001b[39m.\u001b[39muse_mask \u001b[39m=\u001b[39m use_mask\n\u001b[0;32m     55\u001b[0m \u001b[39mself\u001b[39m\u001b[39m.\u001b[39mrescale \u001b[39m=\u001b[39m rescale\n",
      "\u001b[1;31mAssertionError\u001b[0m: dataset_splits.csv not found in data_path."
     ]
    }
   ],
   "source": [
    "import dataset  # Assuming the provided code is saved in a file named 'dataset.py'\n",
    "from pathlib import Path\n",
    "\n",
    "# Define the path to your data and the split you want to use (e.g., 'train')\n",
    "data_path = Path(\"../prepare_dataset/\")\n",
    "split = \"train\"  # or 'val' or 'test', depending on your dataset_splits.csv\n",
    "\n",
    "# Instantiate the dataset\n",
    "forest_sat_dataset = dataset.MineSATDataset(split=split, data_path=data_path)\n",
    "\n",
    "# Choose an index of an image you want to visualize\n",
    "index = 3  # You can change this to any valid index\n",
    "\n",
    "# Display the transformed images including NBR and NDVI\n",
    "forest_sat_dataset.display_transformed_images(index)\n"
   ]
  }
 ],
 "metadata": {
  "kernelspec": {
   "display_name": "Python 3",
   "language": "python",
   "name": "python3"
  },
  "language_info": {
   "codemirror_mode": {
    "name": "ipython",
    "version": 3
   },
   "file_extension": ".py",
   "mimetype": "text/x-python",
   "name": "python",
   "nbconvert_exporter": "python",
   "pygments_lexer": "ipython3",
   "version": "3.9.9"
  }
 },
 "nbformat": 4,
 "nbformat_minor": 2
}
