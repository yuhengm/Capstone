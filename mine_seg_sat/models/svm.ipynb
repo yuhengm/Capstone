{
 "cells": [
  {
   "cell_type": "code",
   "execution_count": 2,
   "metadata": {},
   "outputs": [],
   "source": [
    "import numpy as np\n",
    "import pandas as pd\n",
    "import matplotlib.pyplot as plt\n",
    "\n",
    "from sklearn.model_selection import train_test_split\n",
    "from sklearn import svm\n",
    "from sklearn.metrics import classification_report, confusion_matrix\n",
    "from sklearn.metrics import accuracy_score, precision_score, recall_score, average_precision_score\n",
    "from sklearn.model_selection import GridSearchCV, StratifiedShuffleSplit\n"
   ]
  },
  {
   "cell_type": "code",
   "execution_count": 7,
   "metadata": {},
   "outputs": [
    {
     "name": "stdout",
     "output_type": "stream",
     "text": [
      "<class 'pandas.core.frame.DataFrame'>\n",
      "Index: 546 entries, 0 to 697\n",
      "Data columns (total 7 columns):\n",
      " #   Column      Non-Null Count  Dtype  \n",
      "---  ------      --------------  -----  \n",
      " 0   ID          546 non-null    object \n",
      " 1   NDVI        546 non-null    object \n",
      " 2   NBR         546 non-null    object \n",
      " 3   Label       546 non-null    float64\n",
      " 4   Unnamed: 4  0 non-null      float64\n",
      " 5   Unnamed: 5  0 non-null      float64\n",
      " 6   Unnamed: 6  0 non-null      object \n",
      "dtypes: float64(3), object(4)\n",
      "memory usage: 34.1+ KB\n"
     ]
    }
   ],
   "source": [
    "# Load data\n",
    "# This assumes data is in a DataFrame called df with 'NDVI', 'NBR' as columns and 'label' as target column\n",
    "\n",
    "data = pd.read_csv('calculated_data.csv')\n",
    "data.dropna(subset=['Label'], inplace=True)\n",
    "data.info()\n"
   ]
  },
  {
   "cell_type": "code",
   "execution_count": 8,
   "metadata": {},
   "outputs": [
    {
     "data": {
      "text/html": [
       "<div>\n",
       "<style scoped>\n",
       "    .dataframe tbody tr th:only-of-type {\n",
       "        vertical-align: middle;\n",
       "    }\n",
       "\n",
       "    .dataframe tbody tr th {\n",
       "        vertical-align: top;\n",
       "    }\n",
       "\n",
       "    .dataframe thead th {\n",
       "        text-align: right;\n",
       "    }\n",
       "</style>\n",
       "<table border=\"1\" class=\"dataframe\">\n",
       "  <thead>\n",
       "    <tr style=\"text-align: right;\">\n",
       "      <th></th>\n",
       "      <th>ID</th>\n",
       "      <th>NDVI</th>\n",
       "      <th>NBR</th>\n",
       "      <th>Label</th>\n",
       "      <th>Unnamed: 4</th>\n",
       "      <th>Unnamed: 5</th>\n",
       "      <th>Unnamed: 6</th>\n",
       "    </tr>\n",
       "  </thead>\n",
       "  <tbody>\n",
       "    <tr>\n",
       "      <th>0</th>\n",
       "      <td>20230813_100</td>\n",
       "      <td>[0.7755693773142729, 0.8109320515721594, 0.851...</td>\n",
       "      <td>[0.003078832689977299, 0.049812837737360276, 0...</td>\n",
       "      <td>1.0</td>\n",
       "      <td>NaN</td>\n",
       "      <td>NaN</td>\n",
       "      <td>NaN</td>\n",
       "    </tr>\n",
       "    <tr>\n",
       "      <th>1</th>\n",
       "      <td>20230813_101</td>\n",
       "      <td>[0.34495916148451133, 0.24291931815932866, 0.2...</td>\n",
       "      <td>[0.05116118296949416, -0.026290510714717576, 0...</td>\n",
       "      <td>2.0</td>\n",
       "      <td>NaN</td>\n",
       "      <td>NaN</td>\n",
       "      <td>NaN</td>\n",
       "    </tr>\n",
       "    <tr>\n",
       "      <th>2</th>\n",
       "      <td>20230813_102</td>\n",
       "      <td>[0.8418304439153839, 0.798698150698662, 0.8062...</td>\n",
       "      <td>[0.058663947405941635, 0.04357172884127514, 0....</td>\n",
       "      <td>1.0</td>\n",
       "      <td>NaN</td>\n",
       "      <td>NaN</td>\n",
       "      <td>NaN</td>\n",
       "    </tr>\n",
       "    <tr>\n",
       "      <th>3</th>\n",
       "      <td>20230813_103</td>\n",
       "      <td>[0.5716647915500211, 0.5872206605870187, 0.589...</td>\n",
       "      <td>[0.019482128930850738, 0.009917857640267346, 0...</td>\n",
       "      <td>2.0</td>\n",
       "      <td>NaN</td>\n",
       "      <td>NaN</td>\n",
       "      <td>NaN</td>\n",
       "    </tr>\n",
       "    <tr>\n",
       "      <th>4</th>\n",
       "      <td>20230813_104</td>\n",
       "      <td>[-0.2217794764351386, -0.22595804483580587, -0...</td>\n",
       "      <td>[0.006908720294918405, 0.00880010401111331, -0...</td>\n",
       "      <td>0.0</td>\n",
       "      <td>NaN</td>\n",
       "      <td>NaN</td>\n",
       "      <td>NaN</td>\n",
       "    </tr>\n",
       "  </tbody>\n",
       "</table>\n",
       "</div>"
      ],
      "text/plain": [
       "             ID                                               NDVI  \\\n",
       "0  20230813_100  [0.7755693773142729, 0.8109320515721594, 0.851...   \n",
       "1  20230813_101  [0.34495916148451133, 0.24291931815932866, 0.2...   \n",
       "2  20230813_102  [0.8418304439153839, 0.798698150698662, 0.8062...   \n",
       "3  20230813_103  [0.5716647915500211, 0.5872206605870187, 0.589...   \n",
       "4  20230813_104  [-0.2217794764351386, -0.22595804483580587, -0...   \n",
       "\n",
       "                                                 NBR  Label  Unnamed: 4  \\\n",
       "0  [0.003078832689977299, 0.049812837737360276, 0...    1.0         NaN   \n",
       "1  [0.05116118296949416, -0.026290510714717576, 0...    2.0         NaN   \n",
       "2  [0.058663947405941635, 0.04357172884127514, 0....    1.0         NaN   \n",
       "3  [0.019482128930850738, 0.009917857640267346, 0...    2.0         NaN   \n",
       "4  [0.006908720294918405, 0.00880010401111331, -0...    0.0         NaN   \n",
       "\n",
       "   Unnamed: 5 Unnamed: 6  \n",
       "0         NaN        NaN  \n",
       "1         NaN        NaN  \n",
       "2         NaN        NaN  \n",
       "3         NaN        NaN  \n",
       "4         NaN        NaN  "
      ]
     },
     "execution_count": 8,
     "metadata": {},
     "output_type": "execute_result"
    }
   ],
   "source": [
    "\n",
    "data['NBR'] = data['NBR'].apply(lambda x: pd.eval(x, local_dict={'nan': np.nan}))\n",
    "data['NDVI'] = data['NDVI'].apply(lambda x: pd.eval(x, local_dict={'nan': np.nan}))\n",
    "data.head()\n"
   ]
  },
  {
   "cell_type": "code",
   "execution_count": 9,
   "metadata": {},
   "outputs": [],
   "source": [
    "# Combine NBR and NDVI data into a single feature array\n",
    "# Flatten each sublist and concatenate NBR and NDVI for each row\n",
    "X = np.array([np.ravel(nbr + ndvi) for nbr, ndvi in zip(data['NBR'], data['NDVI'])])\n",
    "X = np.nan_to_num(X)\n",
    "\n",
    "# Labels\n",
    "y = data['Label'].values\n",
    "\n",
    "X_train, X_test, y_train, y_test = train_test_split(X, y, test_size=0.3, random_state=42)\n"
   ]
  },
  {
   "cell_type": "code",
   "execution_count": 10,
   "metadata": {},
   "outputs": [
    {
     "name": "stdout",
     "output_type": "stream",
     "text": [
      "The best parameters are {'C': 100.0, 'gamma': 0.01} with a score of 0.51\n"
     ]
    }
   ],
   "source": [
    "# Fine tune gamma and C range for RBF kernel\n",
    "C_range = np.logspace(-2, 10, 13)\n",
    "gamma_range = np.logspace(-9, 3, 13)\n",
    "param_grid = dict(gamma=gamma_range, C=C_range)\n",
    "cv = StratifiedShuffleSplit(n_splits=5, test_size=0.2, random_state=42)\n",
    "grid = GridSearchCV(svm.SVC(), param_grid=param_grid, cv=cv)\n",
    "grid.fit(X, y)\n",
    "\n",
    "print(\n",
    "    \"The best parameters are %s with a score of %0.2f\"\n",
    "    % (grid.best_params_, grid.best_score_)\n",
    ")\n"
   ]
  },
  {
   "cell_type": "code",
   "execution_count": 71,
   "metadata": {},
   "outputs": [],
   "source": [
    "# Classifier used: Radial Basis Function (RBF)\n",
    "# it can combine multiple polynomial kernels multiple times of different degrees to\n",
    "# project the non-linearly separable data into higher dimensional space\n",
    "\n",
    "# gamma: https://www.ibm.com/docs/sr/spss-modeler/18.0.0?topic=node-svm-expert-options\n",
    "# C: https://vitalflux.com/svm-rbf-kernel-parameters-code-sample/\n",
    "\n",
    "model = svm.SVC(kernel='rbf', gamma=0.1, C=100.0).fit(X_train, y_train)\n"
   ]
  },
  {
   "cell_type": "code",
   "execution_count": 72,
   "metadata": {},
   "outputs": [],
   "source": [
    "# Calculate model efficiency\n",
    "\n",
    "y_pred = model.predict(X_test)\n"
   ]
  },
  {
   "cell_type": "code",
   "execution_count": 76,
   "metadata": {},
   "outputs": [
    {
     "name": "stdout",
     "output_type": "stream",
     "text": [
      "Accuracy: 0.44\n",
      "Precision: 0.54\n",
      "Recall: 0.30\n",
      "\n",
      "Classification Report:\n",
      "              precision    recall  f1-score   support\n",
      "\n",
      "           0       0.75      0.13      0.22        23\n",
      "           1       0.41      0.96      0.57        26\n",
      "           2       1.00      0.09      0.17        11\n",
      "           3       0.00      0.00      0.00         6\n",
      "\n",
      "    accuracy                           0.44        66\n",
      "   macro avg       0.54      0.30      0.24        66\n",
      "weighted avg       0.59      0.44      0.33        66\n",
      "\n",
      "\n",
      "Confusion Matrix:\n",
      "[[ 3 20  0  0]\n",
      " [ 1 25  0  0]\n",
      " [ 0 10  1  0]\n",
      " [ 0  6  0  0]]\n"
     ]
    },
    {
     "name": "stderr",
     "output_type": "stream",
     "text": [
      "/Users/I741798/Documents/Private/Capstone/env/lib/python3.9/site-packages/sklearn/metrics/_classification.py:1471: UndefinedMetricWarning: Precision is ill-defined and being set to 0.0 in labels with no predicted samples. Use `zero_division` parameter to control this behavior.\n",
      "  _warn_prf(average, modifier, msg_start, len(result))\n",
      "/Users/I741798/Documents/Private/Capstone/env/lib/python3.9/site-packages/sklearn/metrics/_classification.py:1471: UndefinedMetricWarning: Precision and F-score are ill-defined and being set to 0.0 in labels with no predicted samples. Use `zero_division` parameter to control this behavior.\n",
      "  _warn_prf(average, modifier, msg_start, len(result))\n",
      "/Users/I741798/Documents/Private/Capstone/env/lib/python3.9/site-packages/sklearn/metrics/_classification.py:1471: UndefinedMetricWarning: Precision and F-score are ill-defined and being set to 0.0 in labels with no predicted samples. Use `zero_division` parameter to control this behavior.\n",
      "  _warn_prf(average, modifier, msg_start, len(result))\n",
      "/Users/I741798/Documents/Private/Capstone/env/lib/python3.9/site-packages/sklearn/metrics/_classification.py:1471: UndefinedMetricWarning: Precision and F-score are ill-defined and being set to 0.0 in labels with no predicted samples. Use `zero_division` parameter to control this behavior.\n",
      "  _warn_prf(average, modifier, msg_start, len(result))\n"
     ]
    }
   ],
   "source": [
    "# Calculate the accuracy and f1 scores for SVM with RBF kernel\n",
    "\n",
    "accuracy = accuracy_score(y_test, y_pred)\n",
    "precision = precision_score(y_test, y_pred, average='macro')\n",
    "recall = recall_score(y_test, y_pred, average='macro')\n",
    "# rbf_average_precision = average_precision_score(y_test, rbf_pred, average='macro')\n",
    "\n",
    "print(f\"Accuracy: {accuracy:.2f}\")\n",
    "print(f\"Precision: {precision:.2f}\")\n",
    "print(f\"Recall: {recall:.2f}\")\n",
    "# print(f\"Mean Average Precision: {rbf_average_precision:.4f}\")\n",
    "\n",
    "print(\"\\nClassification Report:\")\n",
    "print(classification_report(y_test, y_pred))\n",
    "print(\"\\nConfusion Matrix:\")\n",
    "print(confusion_matrix(y_test, y_pred))\n"
   ]
  },
  {
   "cell_type": "code",
   "execution_count": 74,
   "metadata": {},
   "outputs": [
    {
     "data": {
      "image/png": "[encoded data removed]",
      "text/plain": [
       "<Figure size 640x480 with 1 Axes>"
      ]
     },
     "metadata": {},
     "output_type": "display_data"
    }
   ],
   "source": [
    "# Visualize the model evaluation metrics\n",
    "\n",
    "metrics = ['Accuracy', 'Precision', 'Recall']\n",
    "values = [accuracy, precision, recall]\n",
    "\n",
    "plt.bar(metrics, values, color=['blue', 'green', 'red'])\n",
    "plt.ylabel('Score')\n",
    "plt.title('Model Evaluation Metrics')\n",
    "plt.ylim(0, 1)  # to set y-axis limits from 0 to 1\n",
    "plt.show()\n"
   ]
  },
  {
   "cell_type": "code",
   "execution_count": null,
   "metadata": {},
   "outputs": [],
   "source": []
  }
 ],
 "metadata": {
  "kernelspec": {
   "display_name": "env",
   "language": "python",
   "name": "python3"
  },
  "language_info": {
   "codemirror_mode": {
    "name": "ipython",
    "version": 3
   },
   "file_extension": ".py",
   "mimetype": "text/x-python",
   "name": "python",
   "nbconvert_exporter": "python",
   "pygments_lexer": "ipython3",
   "version": "3.9.6"
  }
 },
 "nbformat": 4,
 "nbformat_minor": 2
}
