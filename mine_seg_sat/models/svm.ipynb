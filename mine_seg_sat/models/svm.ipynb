{
 "cells": [
  {
   "cell_type": "code",
   "execution_count": 2,
   "metadata": {},
   "outputs": [],
   "source": [
    "import numpy as np\n",
    "import pandas as pd\n",
    "import matplotlib.pyplot as plt\n",
    "\n",
    "from sklearn.model_selection import train_test_split\n",
    "from sklearn import svm\n",
    "from sklearn.metrics import classification_report, confusion_matrix\n",
    "from sklearn.metrics import accuracy_score, precision_score, recall_score, average_precision_score\n",
    "from sklearn.inspection import permutation_importance\n"
   ]
  },
  {
   "cell_type": "code",
   "execution_count": 3,
   "metadata": {},
   "outputs": [
    {
     "data": {
      "text/html": [
       "<div>\n",
       "<style scoped>\n",
       "    .dataframe tbody tr th:only-of-type {\n",
       "        vertical-align: middle;\n",
       "    }\n",
       "\n",
       "    .dataframe tbody tr th {\n",
       "        vertical-align: top;\n",
       "    }\n",
       "\n",
       "    .dataframe thead th {\n",
       "        text-align: right;\n",
       "    }\n",
       "</style>\n",
       "<table border=\"1\" class=\"dataframe\">\n",
       "  <thead>\n",
       "    <tr style=\"text-align: right;\">\n",
       "      <th></th>\n",
       "      <th>ID</th>\n",
       "      <th>NDVI</th>\n",
       "      <th>NBR</th>\n",
       "      <th>Label</th>\n",
       "    </tr>\n",
       "  </thead>\n",
       "  <tbody>\n",
       "    <tr>\n",
       "      <th>0</th>\n",
       "      <td>20230813_100</td>\n",
       "      <td>[0.7755693773142729, 0.8109320515721594, 0.851...</td>\n",
       "      <td>[0.003078832689977299, 0.049812837737360276, 0...</td>\n",
       "      <td>1</td>\n",
       "    </tr>\n",
       "    <tr>\n",
       "      <th>1</th>\n",
       "      <td>20230813_101</td>\n",
       "      <td>[0.34495916148451133, 0.24291931815932866, 0.2...</td>\n",
       "      <td>[0.05116118296949416, -0.026290510714717576, 0...</td>\n",
       "      <td>2</td>\n",
       "    </tr>\n",
       "    <tr>\n",
       "      <th>2</th>\n",
       "      <td>20230813_102</td>\n",
       "      <td>[0.8418304439153839, 0.798698150698662, 0.8062...</td>\n",
       "      <td>[0.058663947405941635, 0.04357172884127514, 0....</td>\n",
       "      <td>1</td>\n",
       "    </tr>\n",
       "    <tr>\n",
       "      <th>3</th>\n",
       "      <td>20230813_103</td>\n",
       "      <td>[0.5716647915500211, 0.5872206605870187, 0.589...</td>\n",
       "      <td>[0.019482128930850738, 0.009917857640267346, 0...</td>\n",
       "      <td>2</td>\n",
       "    </tr>\n",
       "    <tr>\n",
       "      <th>4</th>\n",
       "      <td>20230813_104</td>\n",
       "      <td>[-0.2217794764351386, -0.22595804483580587, -0...</td>\n",
       "      <td>[0.006908720294918405, 0.00880010401111331, -0...</td>\n",
       "      <td>0</td>\n",
       "    </tr>\n",
       "  </tbody>\n",
       "</table>\n",
       "</div>"
      ],
      "text/plain": [
       "             ID                                               NDVI  \\\n",
       "0  20230813_100  [0.7755693773142729, 0.8109320515721594, 0.851...   \n",
       "1  20230813_101  [0.34495916148451133, 0.24291931815932866, 0.2...   \n",
       "2  20230813_102  [0.8418304439153839, 0.798698150698662, 0.8062...   \n",
       "3  20230813_103  [0.5716647915500211, 0.5872206605870187, 0.589...   \n",
       "4  20230813_104  [-0.2217794764351386, -0.22595804483580587, -0...   \n",
       "\n",
       "                                                 NBR  Label  \n",
       "0  [0.003078832689977299, 0.049812837737360276, 0...      1  \n",
       "1  [0.05116118296949416, -0.026290510714717576, 0...      2  \n",
       "2  [0.058663947405941635, 0.04357172884127514, 0....      1  \n",
       "3  [0.019482128930850738, 0.009917857640267346, 0...      2  \n",
       "4  [0.006908720294918405, 0.00880010401111331, -0...      0  "
      ]
     },
     "execution_count": 3,
     "metadata": {},
     "output_type": "execute_result"
    }
   ],
   "source": [
    "# Load data\n",
    "# This assumes data is in a DataFrame called df with 'NDVI', 'NBR' as columns and 'label' as target column\n",
    "\n",
    "data = pd.read_csv('labeled_data.csv')\n",
    "data['NBR'] = data['NBR'].apply(lambda x: pd.eval(x, local_dict={'nan': np.nan}))\n",
    "data['NDVI'] = data['NDVI'].apply(lambda x: pd.eval(x, local_dict={'nan': np.nan}))\n",
    "data.head()\n"
   ]
  },
  {
   "cell_type": "code",
   "execution_count": 10,
   "metadata": {},
   "outputs": [],
   "source": [
    "X = np.array([np.ravel(nbr + ndvi)\n",
    "             for nbr, ndvi in zip(data['NBR'], data['NDVI'])])\n",
    "X = np.nan_to_num(X)\n",
    "\n",
    "# Labels\n",
    "y = data['Label'].values\n",
    "\n",
    "X_train, X_test, y_train, y_test = train_test_split(X, y, test_size=0.3, random_state=42)\n"
   ]
  },
  {
   "cell_type": "code",
   "execution_count": 44,
   "metadata": {},
   "outputs": [],
   "source": [
    "# Classifier used: Radial Basis Function (RBF)\n",
    "# it can combine multiple polynomial kernels multiple times of different degrees to\n",
    "# project the non-linearly separable data into higher dimensional space\n",
    "\n",
    "# gamma: https://www.ibm.com/docs/sr/spss-modeler/18.0.0?topic=node-svm-expert-options\n",
    "# C: https://vitalflux.com/svm-rbf-kernel-parameters-code-sample/\n",
    "\n",
    "model = svm.SVC().fit(X_train, y_train)\n"
   ]
  },
  {
   "cell_type": "code",
   "execution_count": 45,
   "metadata": {},
   "outputs": [],
   "source": [
    "# Calculate model efficiency\n",
    "\n",
    "y_pred = model.predict(X_test)\n"
   ]
  },
  {
   "cell_type": "code",
   "execution_count": 46,
   "metadata": {},
   "outputs": [
    {
     "name": "stdout",
     "output_type": "stream",
     "text": [
      "Accuracy: 0.4242\n",
      "Precision: 0.6016\n",
      "Recall: 0.2836\n",
      "              precision    recall  f1-score   support\n",
      "\n",
      "           0       1.00      0.04      0.08        23\n",
      "           1       0.41      1.00      0.58        26\n",
      "           2       1.00      0.09      0.17        11\n",
      "           3       0.00      0.00      0.00         6\n",
      "\n",
      "    accuracy                           0.42        66\n",
      "   macro avg       0.60      0.28      0.21        66\n",
      "weighted avg       0.68      0.42      0.28        66\n",
      "\n",
      "[[ 1 22  0  0]\n",
      " [ 0 26  0  0]\n",
      " [ 0 10  1  0]\n",
      " [ 0  6  0  0]]\n"
     ]
    },
    {
     "name": "stderr",
     "output_type": "stream",
     "text": [
      "/Users/I741798/Documents/Private/Capstone/env/lib/python3.9/site-packages/sklearn/metrics/_classification.py:1471: UndefinedMetricWarning: Precision is ill-defined and being set to 0.0 in labels with no predicted samples. Use `zero_division` parameter to control this behavior.\n",
      "  _warn_prf(average, modifier, msg_start, len(result))\n",
      "/Users/I741798/Documents/Private/Capstone/env/lib/python3.9/site-packages/sklearn/metrics/_classification.py:1471: UndefinedMetricWarning: Precision and F-score are ill-defined and being set to 0.0 in labels with no predicted samples. Use `zero_division` parameter to control this behavior.\n",
      "  _warn_prf(average, modifier, msg_start, len(result))\n",
      "/Users/I741798/Documents/Private/Capstone/env/lib/python3.9/site-packages/sklearn/metrics/_classification.py:1471: UndefinedMetricWarning: Precision and F-score are ill-defined and being set to 0.0 in labels with no predicted samples. Use `zero_division` parameter to control this behavior.\n",
      "  _warn_prf(average, modifier, msg_start, len(result))\n",
      "/Users/I741798/Documents/Private/Capstone/env/lib/python3.9/site-packages/sklearn/metrics/_classification.py:1471: UndefinedMetricWarning: Precision and F-score are ill-defined and being set to 0.0 in labels with no predicted samples. Use `zero_division` parameter to control this behavior.\n",
      "  _warn_prf(average, modifier, msg_start, len(result))\n"
     ]
    }
   ],
   "source": [
    "# Calculate the accuracy and f1 scores for SVM with RBF kernel\n",
    "\n",
    "accuracy = accuracy_score(y_test, y_pred)\n",
    "precision = precision_score(y_test, y_pred, average='macro')\n",
    "recall = recall_score(y_test, y_pred, average='macro')\n",
    "# rbf_average_precision = average_precision_score(y_test, rbf_pred, average='macro')\n",
    "\n",
    "print(f\"Accuracy: {accuracy:.4f}\")\n",
    "print(f\"Precision: {precision:.4f}\")\n",
    "print(f\"Recall: {recall:.4f}\")\n",
    "# print(f\"Mean Average Precision: {rbf_average_precision:.4f}\")\n",
    "\n",
    "print(classification_report(y_test, y_pred))\n",
    "print(confusion_matrix(y_test, y_pred))\n"
   ]
  },
  {
   "cell_type": "code",
   "execution_count": 48,
   "metadata": {},
   "outputs": [
    {
     "data": {
      "image/png": "[encoded data removed]",
      "text/plain": [
       "<Figure size 640x480 with 1 Axes>"
      ]
     },
     "metadata": {},
     "output_type": "display_data"
    }
   ],
   "source": [
    "# Visualize the model evaluation metrics\n",
    "\n",
    "metrics = ['Accuracy', 'Precision', 'Recall']\n",
    "values = [accuracy, precision, recall]\n",
    "\n",
    "plt.bar(metrics, values, color=['blue', 'green', 'red'])\n",
    "plt.ylabel('Score')\n",
    "plt.title('Model Evaluation Metrics')\n",
    "plt.ylim(0, 1)  # to set y-axis limits from 0 to 1\n",
    "plt.show()\n"
   ]
  }
 ],
 "metadata": {
  "kernelspec": {
   "display_name": "env",
   "language": "python",
   "name": "python3"
  },
  "language_info": {
   "codemirror_mode": {
    "name": "ipython",
    "version": 3
   },
   "file_extension": ".py",
   "mimetype": "text/x-python",
   "name": "python",
   "nbconvert_exporter": "python",
   "pygments_lexer": "ipython3",
   "version": "3.9.6"
  }
 },
 "nbformat": 4,
 "nbformat_minor": 2
}
